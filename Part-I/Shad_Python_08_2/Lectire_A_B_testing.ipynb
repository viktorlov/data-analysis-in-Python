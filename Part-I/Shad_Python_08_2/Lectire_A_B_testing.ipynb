{
 "cells": [
  {
   "cell_type": "code",
   "execution_count": 2,
   "metadata": {},
   "outputs": [],
   "source": [
    "from scipy.stats import norm, chi2_contingency\n",
    "import statsmodels.api as sm\n",
    "import numpy as np\n"
   ]
  },
  {
   "cell_type": "code",
   "execution_count": null,
   "metadata": {
    "collapsed": true
   },
   "outputs": [],
   "source": [
    "#  Данные о смертности после аварии \n",
    "#  среди тех, кто пристегнул ремень\n",
    "#  и среди тех, кто пристегнул ремень\n",
    "\n",
    "              survived died\n",
    "no seat belt     1781  135\n",
    "seat belt        1443   47"
   ]
  },
  {
   "cell_type": "code",
   "execution_count": 3,
   "metadata": {},
   "outputs": [
    {
     "name": "stdout",
     "output_type": "stream",
     "text": [
      "['5.288388269523', '0.000000123399']\n"
     ]
    }
   ],
   "source": [
    "s1 = 135       #  число успехов     выборка А\n",
    "n1 = 1781      #  число испытаний   выборка А\n",
    "s2 = 47        #  число успехов     выборка Б\n",
    "n2 = 1443      #  число испытаний   выборка Б\n",
    "p1 = s1/n1               #  оценка вероятности успеха выборка А\n",
    "p2 = s2/n2               #  оценка вероятности успеха выборка Б\n",
    "p = (s1 + s2)/(n1+n2)    #  оценка вероятности успеха выборка А+Б\n",
    "z = (p2-p1)/ ((p*(1-p)*((1/n1)+(1/n2)))**0.5)  #  z-метка\n",
    "\n",
    "p_value = norm.cdf(z)\n",
    "\n",
    "#  z-метка и p-значение\n",
    "print(['{:.12f}'.format(a) for a in (abs(z), p_value * 2)])\n",
    "\n"
   ]
  },
  {
   "cell_type": "code",
   "execution_count": 5,
   "metadata": {},
   "outputs": [
    {
     "name": "stdout",
     "output_type": "stream",
     "text": [
      "['5.288388269523', '0.000000123399']\n"
     ]
    }
   ],
   "source": [
    "z1, p_value1 = sm.stats.proportions_ztest([s1, s2], [n1, n2])\n",
    "\n",
    "#  z-метка и p-значение\n",
    "print(['{:.12f}'.format(b) for b in (z1, p_value1)])\n",
    "\n"
   ]
  },
  {
   "cell_type": "code",
   "execution_count": 6,
   "metadata": {},
   "outputs": [
    {
     "name": "stdout",
     "output_type": "stream",
     "text": [
      "['5.288388269523', '0.000000123399']\n"
     ]
    }
   ],
   "source": [
    "#  Нельзя использовать, если Вы не понимаете,\n",
    "#  почему ответ такой же, как ранее!!!\n",
    "\n",
    "arr = np.array([[s1, n1-s1], [s2, n2-s2]])\n",
    "chi2, p_value3, dof, exp = chi2_contingency(arr, correction=False)\n",
    "\n",
    "print(['{:.12f}'.format(d) for d in (chi2**0.5, p_value3)])"
   ]
  },
  {
   "cell_type": "code",
   "execution_count": null,
   "metadata": {
    "collapsed": true
   },
   "outputs": [],
   "source": []
  }
 ],
 "metadata": {
  "kernelspec": {
   "display_name": "Python 3",
   "language": "python",
   "name": "python3"
  },
  "language_info": {
   "codemirror_mode": {
    "name": "ipython",
    "version": 3
   },
   "file_extension": ".py",
   "mimetype": "text/x-python",
   "name": "python",
   "nbconvert_exporter": "python",
   "pygments_lexer": "ipython3",
   "version": "3.6.3"
  }
 },
 "nbformat": 4,
 "nbformat_minor": 2
}
